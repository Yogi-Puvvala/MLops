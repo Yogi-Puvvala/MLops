{
 "cells": [
  {
   "cell_type": "code",
   "execution_count": 8,
   "id": "e1247a18-36d8-4b88-abad-113e989ad226",
   "metadata": {},
   "outputs": [],
   "source": [
    "import fastparquet\n",
    "import pandas as pd\n",
    "import numpy as np"
   ]
  },
  {
   "cell_type": "code",
   "execution_count": 9,
   "id": "ba878196-3bc6-406a-beec-029688b419b4",
   "metadata": {},
   "outputs": [
    {
     "ename": "OSError",
     "evalue": "[Errno 22] Invalid argument",
     "output_type": "error",
     "traceback": [
      "\u001b[31m---------------------------------------------------------------------------\u001b[39m",
      "\u001b[31mOSError\u001b[39m                                   Traceback (most recent call last)",
      "\u001b[36mCell\u001b[39m\u001b[36m \u001b[39m\u001b[32mIn[9]\u001b[39m\u001b[32m, line 1\u001b[39m\n\u001b[32m----> \u001b[39m\u001b[32m1\u001b[39m df = \u001b[43mpd\u001b[49m\u001b[43m.\u001b[49m\u001b[43mread_parquet\u001b[49m\u001b[43m(\u001b[49m\u001b[33;43m\"\u001b[39;49m\u001b[33;43myellow_trip_data.parquet\u001b[39;49m\u001b[33;43m\"\u001b[39;49m\u001b[43m,\u001b[49m\u001b[43m \u001b[49m\u001b[43mengine\u001b[49m\u001b[43m \u001b[49m\u001b[43m=\u001b[49m\u001b[43m \u001b[49m\u001b[33;43m\"\u001b[39;49m\u001b[33;43mfastparquet\u001b[39;49m\u001b[33;43m\"\u001b[39;49m\u001b[43m)\u001b[49m\n",
      "\u001b[36mFile \u001b[39m\u001b[32m~/.local/lib/python3.12/site-packages/pandas/io/parquet.py:669\u001b[39m, in \u001b[36mread_parquet\u001b[39m\u001b[34m(path, engine, columns, storage_options, use_nullable_dtypes, dtype_backend, filesystem, filters, **kwargs)\u001b[39m\n\u001b[32m    666\u001b[39m     use_nullable_dtypes = \u001b[38;5;28;01mFalse\u001b[39;00m\n\u001b[32m    667\u001b[39m check_dtype_backend(dtype_backend)\n\u001b[32m--> \u001b[39m\u001b[32m669\u001b[39m \u001b[38;5;28;01mreturn\u001b[39;00m \u001b[43mimpl\u001b[49m\u001b[43m.\u001b[49m\u001b[43mread\u001b[49m\u001b[43m(\u001b[49m\n\u001b[32m    670\u001b[39m \u001b[43m    \u001b[49m\u001b[43mpath\u001b[49m\u001b[43m,\u001b[49m\n\u001b[32m    671\u001b[39m \u001b[43m    \u001b[49m\u001b[43mcolumns\u001b[49m\u001b[43m=\u001b[49m\u001b[43mcolumns\u001b[49m\u001b[43m,\u001b[49m\n\u001b[32m    672\u001b[39m \u001b[43m    \u001b[49m\u001b[43mfilters\u001b[49m\u001b[43m=\u001b[49m\u001b[43mfilters\u001b[49m\u001b[43m,\u001b[49m\n\u001b[32m    673\u001b[39m \u001b[43m    \u001b[49m\u001b[43mstorage_options\u001b[49m\u001b[43m=\u001b[49m\u001b[43mstorage_options\u001b[49m\u001b[43m,\u001b[49m\n\u001b[32m    674\u001b[39m \u001b[43m    \u001b[49m\u001b[43muse_nullable_dtypes\u001b[49m\u001b[43m=\u001b[49m\u001b[43muse_nullable_dtypes\u001b[49m\u001b[43m,\u001b[49m\n\u001b[32m    675\u001b[39m \u001b[43m    \u001b[49m\u001b[43mdtype_backend\u001b[49m\u001b[43m=\u001b[49m\u001b[43mdtype_backend\u001b[49m\u001b[43m,\u001b[49m\n\u001b[32m    676\u001b[39m \u001b[43m    \u001b[49m\u001b[43mfilesystem\u001b[49m\u001b[43m=\u001b[49m\u001b[43mfilesystem\u001b[49m\u001b[43m,\u001b[49m\n\u001b[32m    677\u001b[39m \u001b[43m    \u001b[49m\u001b[43m*\u001b[49m\u001b[43m*\u001b[49m\u001b[43mkwargs\u001b[49m\u001b[43m,\u001b[49m\n\u001b[32m    678\u001b[39m \u001b[43m\u001b[49m\u001b[43m)\u001b[49m\n",
      "\u001b[36mFile \u001b[39m\u001b[32m~/.local/lib/python3.12/site-packages/pandas/io/parquet.py:404\u001b[39m, in \u001b[36mFastParquetImpl.read\u001b[39m\u001b[34m(self, path, columns, filters, storage_options, filesystem, **kwargs)\u001b[39m\n\u001b[32m    401\u001b[39m     path = handles.handle\n\u001b[32m    403\u001b[39m \u001b[38;5;28;01mtry\u001b[39;00m:\n\u001b[32m--> \u001b[39m\u001b[32m404\u001b[39m     parquet_file = \u001b[38;5;28;43mself\u001b[39;49m\u001b[43m.\u001b[49m\u001b[43mapi\u001b[49m\u001b[43m.\u001b[49m\u001b[43mParquetFile\u001b[49m\u001b[43m(\u001b[49m\u001b[43mpath\u001b[49m\u001b[43m,\u001b[49m\u001b[43m \u001b[49m\u001b[43m*\u001b[49m\u001b[43m*\u001b[49m\u001b[43mparquet_kwargs\u001b[49m\u001b[43m)\u001b[49m\n\u001b[32m    405\u001b[39m     \u001b[38;5;28;01mreturn\u001b[39;00m parquet_file.to_pandas(columns=columns, filters=filters, **kwargs)\n\u001b[32m    406\u001b[39m \u001b[38;5;28;01mfinally\u001b[39;00m:\n",
      "\u001b[36mFile \u001b[39m\u001b[32m/usr/local/python/3.12.1/lib/python3.12/site-packages/fastparquet/api.py:135\u001b[39m, in \u001b[36mParquetFile.__init__\u001b[39m\u001b[34m(self, fn, verify, open_with, root, sep, fs, pandas_nulls, dtypes)\u001b[39m\n\u001b[32m    132\u001b[39m \u001b[38;5;28;01melif\u001b[39;00m \u001b[38;5;28mhasattr\u001b[39m(fn, \u001b[33m'\u001b[39m\u001b[33mread\u001b[39m\u001b[33m'\u001b[39m):\n\u001b[32m    133\u001b[39m     \u001b[38;5;66;03m# file-like\u001b[39;00m\n\u001b[32m    134\u001b[39m     \u001b[38;5;28mself\u001b[39m.fn = \u001b[38;5;28;01mNone\u001b[39;00m\n\u001b[32m--> \u001b[39m\u001b[32m135\u001b[39m     \u001b[38;5;28;43mself\u001b[39;49m\u001b[43m.\u001b[49m\u001b[43m_parse_header\u001b[49m\u001b[43m(\u001b[49m\u001b[43mfn\u001b[49m\u001b[43m,\u001b[49m\u001b[43m \u001b[49m\u001b[43mverify\u001b[49m\u001b[43m)\u001b[49m\n\u001b[32m    136\u001b[39m     \u001b[38;5;28;01mif\u001b[39;00m \u001b[38;5;28mself\u001b[39m.file_scheme \u001b[38;5;129;01mnot\u001b[39;00m \u001b[38;5;129;01min\u001b[39;00m [\u001b[33m'\u001b[39m\u001b[33msimple\u001b[39m\u001b[33m'\u001b[39m, \u001b[33m'\u001b[39m\u001b[33mempty\u001b[39m\u001b[33m'\u001b[39m]:\n\u001b[32m    137\u001b[39m         \u001b[38;5;28;01mraise\u001b[39;00m \u001b[38;5;167;01mValueError\u001b[39;00m(\u001b[33m'\u001b[39m\u001b[33mCannot use file-like input \u001b[39m\u001b[33m'\u001b[39m\n\u001b[32m    138\u001b[39m                          \u001b[33m'\u001b[39m\u001b[33mwith multi-file data\u001b[39m\u001b[33m'\u001b[39m)\n",
      "\u001b[36mFile \u001b[39m\u001b[32m/usr/local/python/3.12.1/lib/python3.12/site-packages/fastparquet/api.py:215\u001b[39m, in \u001b[36mParquetFile._parse_header\u001b[39m\u001b[34m(self, f, verify)\u001b[39m\n\u001b[32m    213\u001b[39m         \u001b[38;5;28;01massert\u001b[39;00m f.read() == \u001b[33mb\u001b[39m\u001b[33m'\u001b[39m\u001b[33mPAR1\u001b[39m\u001b[33m'\u001b[39m\n\u001b[32m    214\u001b[39m     \u001b[38;5;28mself\u001b[39m._head_size = head_size\n\u001b[32m--> \u001b[39m\u001b[32m215\u001b[39m     \u001b[43mf\u001b[49m\u001b[43m.\u001b[49m\u001b[43mseek\u001b[49m\u001b[43m(\u001b[49m\u001b[43m-\u001b[49m\u001b[43m(\u001b[49m\u001b[43mhead_size\u001b[49m\u001b[43m \u001b[49m\u001b[43m+\u001b[49m\u001b[43m \u001b[49m\u001b[32;43m8\u001b[39;49m\u001b[43m)\u001b[49m\u001b[43m,\u001b[49m\u001b[43m \u001b[49m\u001b[32;43m2\u001b[39;49m\u001b[43m)\u001b[49m\n\u001b[32m    216\u001b[39m     data = f.read(head_size)\n\u001b[32m    217\u001b[39m \u001b[38;5;28;01mexcept\u001b[39;00m (\u001b[38;5;167;01mAssertionError\u001b[39;00m, struct.error):\n",
      "\u001b[31mOSError\u001b[39m: [Errno 22] Invalid argument"
     ]
    }
   ],
   "source": [
    "df = pd.read_parquet(\"yellow_trip_data.parquet\", engine = \"fastparquet\")"
   ]
  },
  {
   "cell_type": "code",
   "execution_count": null,
   "id": "24dcd360-222c-44ff-90fc-bd630882e524",
   "metadata": {},
   "outputs": [],
   "source": [
    "df.head()"
   ]
  },
  {
   "cell_type": "code",
   "execution_count": null,
   "id": "04f6965c-5686-4c19-99a8-afa1d3c66be4",
   "metadata": {},
   "outputs": [],
   "source": [
    "df.isna().sum()"
   ]
  },
  {
   "cell_type": "code",
   "execution_count": null,
   "id": "9a375831-6b69-473b-9332-47d07e886d95",
   "metadata": {},
   "outputs": [],
   "source": [
    "df.info()"
   ]
  },
  {
   "cell_type": "code",
   "execution_count": null,
   "id": "57041df9-fcf5-46f1-b1f0-9f554efa2900",
   "metadata": {},
   "outputs": [],
   "source": [
    "# Important Feature's Imformation\n",
    "\n",
    "# Target: Duration\n",
    "# Model: Regression Model\n",
    "# Independent features: trip_distance, total_amount, PULocationID, DOLocationID, pickup_time -> (which have to converted into time_sin and time_cos)  "
   ]
  },
  {
   "cell_type": "code",
   "execution_count": null,
   "id": "91d8d390-3fd9-41fe-ae13-ce92914c6ee3",
   "metadata": {},
   "outputs": [],
   "source": [
    "df[\"duration\"] = df[\"lpep_dropoff_datetime\"] - df[\"lpep_pickup_datetime\"]\n",
    "df[\"duration\"] = df[\"duration\"].astype(\"str\")\n",
    "df.loc[0, \"duration\"]"
   ]
  },
  {
   "cell_type": "code",
   "execution_count": null,
   "id": "873c2b49-f685-4ed0-b42d-fbc9a033eb17",
   "metadata": {},
   "outputs": [],
   "source": [
    "def getMins(x):\n",
    "    h, m, s = list(map(int, x.split()[2].split(\":\")))\n",
    "    return h*60 + m + s // 60"
   ]
  },
  {
   "cell_type": "code",
   "execution_count": null,
   "id": "917a1935-4e4d-4ee5-8872-641c5306c3e1",
   "metadata": {},
   "outputs": [],
   "source": [
    "df[\"duration\"] = df[\"duration\"].apply(lambda x: getMins(x))"
   ]
  },
  {
   "cell_type": "code",
   "execution_count": null,
   "id": "dd6cfa4e-52dc-418b-92a9-6fa0ed0a7212",
   "metadata": {},
   "outputs": [],
   "source": [
    "df[\"hour\"] = df[\"lpep_pickup_datetime\"].dt.hour\n",
    "df[\"minute\"] = df[\"lpep_pickup_datetime\"].dt.minute\n",
    "df[\"time_numeric\"] = df[\"hour\"] + df[\"minute\"] / 60"
   ]
  },
  {
   "cell_type": "code",
   "execution_count": null,
   "id": "2676d7da-f0e9-416d-8ed7-76eff9867a4e",
   "metadata": {},
   "outputs": [],
   "source": [
    "df[\"time_sin\"] = np.sin(2 * np.pi * df[\"time_numeric\"] / 24)\n",
    "df[\"time_cos\"] = np.cos(2 * np.pi * df[\"time_numeric\"] / 24)"
   ]
  },
  {
   "cell_type": "code",
   "execution_count": null,
   "id": "2745dc9d-339d-4fce-a35d-1a0fd18128b2",
   "metadata": {},
   "outputs": [],
   "source": [
    "nominal_cols = [\"PULocationID\", \"DOLocationID\"]\n",
    "numerical_cols = [\"time_sin\", \"time_cos\", \"trip_distance\", \"total_amount\"]\n",
    "\n",
    "df = df[numerical_cols + nominal_cols + [\"duration\"]]"
   ]
  },
  {
   "cell_type": "code",
   "execution_count": null,
   "id": "2e025cad-0446-4a2e-b42f-ef438d1d3733",
   "metadata": {},
   "outputs": [],
   "source": [
    "df.head()"
   ]
  },
  {
   "cell_type": "code",
   "execution_count": null,
   "id": "9b9f0852-4128-4e85-b720-7256369d850b",
   "metadata": {},
   "outputs": [],
   "source": [
    "X = df.drop(\"duration\", axis = 1)\n",
    "y = df[\"duration\"]"
   ]
  },
  {
   "cell_type": "code",
   "execution_count": null,
   "id": "6b251cbb-e884-4bfd-90a3-f18228430b98",
   "metadata": {},
   "outputs": [],
   "source": [
    "# models -> Xgboost, random_forest, linear_regression, knn"
   ]
  },
  {
   "cell_type": "code",
   "execution_count": null,
   "id": "6ca595be-51ad-4b77-a38d-815d6d3d233e",
   "metadata": {},
   "outputs": [],
   "source": [
    "from sklearn.model_selection import train_test_split\n",
    "from sklearn.linear_model import LinearRegression\n",
    "from sklearn.neighbors import KNeighborsRegressor\n",
    "from xgboost import XGBRegressor\n",
    "from sklearn.ensemble import RandomForestRegressor\n",
    "from sklearn.compose import ColumnTransformer\n",
    "from sklearn.preprocessing import StandardScaler, OneHotEncoder\n",
    "from sklearn.pipeline import Pipeline\n",
    "from sklearn.metrics import r2_score, mean_squared_error"
   ]
  },
  {
   "cell_type": "markdown",
   "id": "03c9e30b-7893-4c67-b181-00bc2eb36c3a",
   "metadata": {},
   "source": [
    "## LinearRegression Model"
   ]
  },
  {
   "cell_type": "code",
   "execution_count": null,
   "id": "a08e93e0-3473-46f3-acdb-838e93f4545b",
   "metadata": {},
   "outputs": [],
   "source": [
    "X_train, X_test, y_train, y_test = train_test_split(X, y, test_size = 0.2, random_state = 42)"
   ]
  },
  {
   "cell_type": "code",
   "execution_count": null,
   "id": "3896ea4b-9044-4cbe-9235-b44d80dec26f",
   "metadata": {},
   "outputs": [],
   "source": [
    "preprocess = ColumnTransformer([\n",
    "    (\"cat\", OneHotEncoder(sparse_output = True, handle_unknown = \"ignore\"), nominal_cols),\n",
    "    (\"num\", StandardScaler(), numerical_cols)\n",
    "])"
   ]
  },
  {
   "cell_type": "code",
   "execution_count": null,
   "id": "c4ce62a7-580d-4a72-878f-0318ea6aa3d9",
   "metadata": {},
   "outputs": [],
   "source": [
    "LR_model = Pipeline([\n",
    "    (\"preprocess\", preprocess),\n",
    "    (\"model\", LinearRegression())\n",
    "])"
   ]
  },
  {
   "cell_type": "code",
   "execution_count": null,
   "id": "ef10736c-0c17-4cc1-9794-188625352200",
   "metadata": {},
   "outputs": [],
   "source": [
    "LR_model.fit(X_train, y_train)"
   ]
  },
  {
   "cell_type": "code",
   "execution_count": null,
   "id": "f2083b5e-ccc4-4181-ae91-3ab70d9b35e4",
   "metadata": {},
   "outputs": [],
   "source": [
    "print(\"Training Score:\", LR_model.score(X_train, y_train))\n",
    "print(\"Testing Score:\", LR_model.score(X_test, y_test))"
   ]
  },
  {
   "cell_type": "code",
   "execution_count": null,
   "id": "e3fb0854-435f-4266-bb53-e2912d2a2840",
   "metadata": {},
   "outputs": [],
   "source": []
  }
 ],
 "metadata": {
  "kernelspec": {
   "display_name": "Python 3 (ipykernel)",
   "language": "python",
   "name": "python3"
  },
  "language_info": {
   "codemirror_mode": {
    "name": "ipython",
    "version": 3
   },
   "file_extension": ".py",
   "mimetype": "text/x-python",
   "name": "python",
   "nbconvert_exporter": "python",
   "pygments_lexer": "ipython3",
   "version": "3.12.1"
  }
 },
 "nbformat": 4,
 "nbformat_minor": 5
}
